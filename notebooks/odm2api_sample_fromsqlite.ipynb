{
 "cells": [
  {
   "cell_type": "markdown",
   "metadata": {},
   "source": [
    "# odm2api sample\n",
    "Largely from https://github.com/ODM2/ODM2PythonAPI/blob/master/Examples/Sample.py   \n",
    "- 2/7/2016. Tested successfully with `sfgeometry_em_1` branch, with my overhauls. Using `odm2api_dev` env.\n",
    "- 2/1 - 1/31. Errors with SamplingFeatures code, with latest odm2api from master (on env `odm2api_jan31test`). *The code also fails the same way with the `odm2api` env, but it does still run fine with the `odm2api_jan21` env! I'm investigating the differences between those two envs.*\n",
    "- 1/22-20,9/2016.\n",
    "\n",
    "Emilio Mayorga"
   ]
  },
  {
   "cell_type": "code",
   "execution_count": null,
   "metadata": {
    "collapsed": false
   },
   "outputs": [],
   "source": [
    "%matplotlib inline\n",
    "import sys\n",
    "import os\n",
    "import matplotlib.pyplot as plt\n",
    "from matplotlib import dates"
   ]
  },
  {
   "cell_type": "code",
   "execution_count": null,
   "metadata": {
    "collapsed": true
   },
   "outputs": [],
   "source": [
    "from odm2api.ODMconnection import dbconnection\n",
    "from odm2api.ODM2.services.readService import *"
   ]
  },
  {
   "cell_type": "code",
   "execution_count": null,
   "metadata": {
    "collapsed": false
   },
   "outputs": [],
   "source": [
    "# Create a connection to the ODM2 database\n",
    "# ----------------------------------------\n",
    "odm2db_fpth = 'ODM2-LittleBear1.sqlite'\n",
    "session_factory = dbconnection.createConnection('sqlite', odm2db_fpth, 2.0)\n",
    "read = ReadODM2(session_factory)"
   ]
  },
  {
   "cell_type": "code",
   "execution_count": null,
   "metadata": {
    "collapsed": false
   },
   "outputs": [],
   "source": [
    "# Run some basic sample queries.\n",
    "# ------------------------------\n",
    "# Get all of the variables from the database and print their names to the console\n",
    "allVars = read.getVariables()\n",
    "\n",
    "for x in allVars:\n",
    "    print x.VariableCode + \": \" + x.VariableNameCV"
   ]
  },
  {
   "cell_type": "code",
   "execution_count": null,
   "metadata": {
    "collapsed": false
   },
   "outputs": [],
   "source": [
    "# Get all of the people from the database\n",
    "allPeople = read.getPeople()\n",
    "\n",
    "for x in allPeople:\n",
    "    print x.PersonFirstName + \" \" + x.PersonLastName\n",
    "\n",
    "try:\n",
    "    print \"\\n-------- Information about an Affiliation ---------\"\n",
    "    allaff = read.getAllAffiliations()\n",
    "    for x in allaff:\n",
    "        print x.PersonObj.PersonFirstName + \": \" + str(x.OrganizationID)\n",
    "except Exception as e:\n",
    "    print \"Unable to demo getAllAffiliations\", e"
   ]
  },
  {
   "cell_type": "code",
   "execution_count": null,
   "metadata": {
    "collapsed": false
   },
   "outputs": [],
   "source": [
    "allaff = read.getAllAffiliations()\n",
    "type(allaff)"
   ]
  },
  {
   "cell_type": "markdown",
   "metadata": {},
   "source": [
    "### SamplingFeatures tests"
   ]
  },
  {
   "cell_type": "code",
   "execution_count": null,
   "metadata": {
    "collapsed": false
   },
   "outputs": [],
   "source": [
    "from odm2api.ODM2.models import SamplingFeatures\n",
    "read._session.query(SamplingFeatures).filter_by(SamplingFeatureTypeCV='Site').all()"
   ]
  },
  {
   "cell_type": "code",
   "execution_count": null,
   "metadata": {
    "collapsed": false
   },
   "outputs": [],
   "source": [
    "read.getSamplingFeaturesByType('Site')"
   ]
  },
  {
   "cell_type": "code",
   "execution_count": null,
   "metadata": {
    "collapsed": false
   },
   "outputs": [],
   "source": [
    "# Get all of the SamplingFeatures from the database that are Sites\n",
    "try:\n",
    "    siteFeatures = read.getSamplingFeaturesByType('Site')\n",
    "    numSites = len(siteFeatures)\n",
    "\n",
    "    for x in siteFeatures:\n",
    "        print x.SamplingFeatureCode + \": \" + x.SamplingFeatureName\n",
    "except Exception as e:\n",
    "    print \"Unable to demo getSamplingFeaturesByType\", e"
   ]
  },
  {
   "cell_type": "code",
   "execution_count": null,
   "metadata": {
    "collapsed": false
   },
   "outputs": [],
   "source": [
    "read.getSamplingFeatures()"
   ]
  },
  {
   "cell_type": "code",
   "execution_count": null,
   "metadata": {
    "collapsed": false
   },
   "outputs": [],
   "source": [
    "read.getSamplingFeatureByCode('USU-LBR-Mendon')"
   ]
  },
  {
   "cell_type": "code",
   "execution_count": null,
   "metadata": {
    "collapsed": false
   },
   "outputs": [],
   "source": [
    "# Now get the SamplingFeature object for a SamplingFeature code\n",
    "sf = read.getSamplingFeatureByCode('USU-LBR-Mendon')\n",
    "# vars(sf)\n",
    "# 1/31/2016: Leads to error with latest from odm2api master:\n",
    "# \"TypeError: vars() argument must have __dict__ attribute\""
   ]
  },
  {
   "cell_type": "code",
   "execution_count": null,
   "metadata": {
    "collapsed": false
   },
   "outputs": [],
   "source": [
    "print sf, \"\\n\"\n",
    "print type(sf)\n",
    "print type(sf.FeatureGeometry)"
   ]
  },
  {
   "cell_type": "code",
   "execution_count": null,
   "metadata": {
    "collapsed": false
   },
   "outputs": [],
   "source": [
    "vars(sf.FeatureGeometry)"
   ]
  },
  {
   "cell_type": "code",
   "execution_count": null,
   "metadata": {
    "collapsed": false
   },
   "outputs": [],
   "source": [
    "sf.FeatureGeometry.__doc__"
   ]
  },
  {
   "cell_type": "code",
   "execution_count": null,
   "metadata": {
    "collapsed": false
   },
   "outputs": [],
   "source": [
    "sf.FeatureGeometry.geom_wkb, sf.FeatureGeometry.geom_wkt"
   ]
  },
  {
   "cell_type": "code",
   "execution_count": null,
   "metadata": {
    "collapsed": false
   },
   "outputs": [],
   "source": [
    "type(sf.shape()), sf.shape().wkt"
   ]
  },
  {
   "cell_type": "markdown",
   "metadata": {},
   "source": [
    "### Back to the rest of the demo"
   ]
  },
  {
   "cell_type": "code",
   "execution_count": null,
   "metadata": {
    "collapsed": false
   },
   "outputs": [],
   "source": [
    "# Drill down and get objects linked by foreign keys\n",
    "print \"\\n------------ Foreign Key Example --------- \\n\",\n",
    "try:\n",
    "    # Call getResults, but return only the first result\n",
    "    firstResult = read.getResults()[0]\n",
    "    action_firstResult = firstResult.FeatureActionObj.ActionObj\n",
    "    print \"The FeatureAction object for the Result is: \", firstResult.FeatureActionObj\n",
    "    print \"The Action object for the Result is: \", action_firstResult\n",
    "    print (\"\\nThe following are some of the attributes for the Action that created the Result: \\n\" +\n",
    "           \"ActionTypeCV: \" + action_firstResult.ActionTypeCV + \"\\n\" +\n",
    "           \"ActionDescription: \" + action_firstResult.ActionDescription + \"\\n\" +\n",
    "           \"BeginDateTime: \" + str(action_firstResult.BeginDateTime) + \"\\n\" +\n",
    "           \"EndDateTime: \" + str(action_firstResult.EndDateTime) + \"\\n\" +\n",
    "           \"MethodName: \" + action_firstResult.MethodObj.MethodName + \"\\n\" +\n",
    "           \"MethodDescription: \" + action_firstResult.MethodObj.MethodDescription)\n",
    "except Exception as e:\n",
    "    print \"Unable to demo Foreign Key Example: \", e"
   ]
  },
  {
   "cell_type": "code",
   "execution_count": null,
   "metadata": {
    "collapsed": false
   },
   "outputs": [],
   "source": [
    "# Now get a particular Result using a ResultID\n",
    "print \"\\n------- Example of Retrieving Attributes of a Time Series Result -------\"\n",
    "try:\n",
    "    tsResult = read.getTimeSeriesResultByResultId(1)\n",
    "    # Get the site information by drilling down\n",
    "    sf_tsResult = tsResult.ResultObj.FeatureActionObj.SamplingFeatureObj\n",
    "    print(\n",
    "        \"Some of the attributes for the TimeSeriesResult retrieved using getTimeSeriesResultByResultID(): \\n\" +\n",
    "        \"ResultTypeCV: \" + tsResult.ResultObj.ResultTypeCV + \"\\n\" +\n",
    "        # Get the ProcessingLevel from the TimeSeriesResult's ProcessingLevel object\n",
    "        \"ProcessingLevel: \" + tsResult.ResultObj.ProcessingLevelObj.Definition + \"\\n\" +\n",
    "        \"SampledMedium: \" + tsResult.ResultObj.SampledMediumCV + \"\\n\" +\n",
    "        # Get the variable information from the TimeSeriesResult's Variable object\n",
    "        \"Variable: \" + tsResult.ResultObj.VariableObj.VariableCode + \": \" + tsResult.ResultObj.VariableObj.VariableNameCV + \"\\n\" +\n",
    "        \"AggregationStatistic: \" + tsResult.AggregationStatisticCV + \"\\n\" +\n",
    "        # Get the site information by drilling down\n",
    "        \"Elevation_m: \" + str(sf_tsResult.Elevation_m) + \"\\n\" +\n",
    "        \"SamplingFeature: \" + sf_tsResult.SamplingFeatureCode + \" - \" +\n",
    "        sf_tsResult.SamplingFeatureName)\n",
    "except Exception as e:\n",
    "    print \"Unable to demo Example of retrieving Attributes of a time Series Result: \", e"
   ]
  },
  {
   "cell_type": "code",
   "execution_count": null,
   "metadata": {
    "collapsed": false
   },
   "outputs": [],
   "source": [
    "tsResult = read.getTimeSeriesResultByResultId(1)"
   ]
  },
  {
   "cell_type": "code",
   "execution_count": null,
   "metadata": {
    "collapsed": false
   },
   "outputs": [],
   "source": [
    "type(tsResult), vars(tsResult)"
   ]
  },
  {
   "cell_type": "code",
   "execution_count": null,
   "metadata": {
    "collapsed": false
   },
   "outputs": [],
   "source": [
    "vars(tsResult.ResultObj)"
   ]
  },
  {
   "cell_type": "code",
   "execution_count": null,
   "metadata": {
    "collapsed": false
   },
   "outputs": [],
   "source": [
    "# Get the values for a particular TimeSeriesResult\n",
    "print \"\\n-------- Example of Retrieving Time Series Result Values ---------\"\n",
    "\n",
    "tsValues = read.getTimeSeriesResultValuesByResultId(1)  # Return type is a pandas dataframe\n",
    "# Print a few Time Series Values to the console\n",
    "# tsValues.set_index('ValueDateTime', inplace=True)\n",
    "tsValues.head()"
   ]
  },
  {
   "cell_type": "code",
   "execution_count": null,
   "metadata": {
    "collapsed": false
   },
   "outputs": [],
   "source": [
    "# Plot the time series\n",
    "try:\n",
    "    fig = plt.figure()\n",
    "    ax = fig.add_subplot(111)\n",
    "    tsValues.plot(x='ValueDateTime', y='DataValue', kind='line',\n",
    "                  title=tsResult.ResultObj.VariableObj.VariableNameCV + \" at \" + \n",
    "                        tsResult.ResultObj.FeatureActionObj.SamplingFeatureObj.SamplingFeatureName,\n",
    "                  ax=ax)\n",
    "    ax.set_ylabel(tsResult.ResultObj.VariableObj.VariableNameCV + \" (\" + \n",
    "                  tsResult.ResultObj.UnitsObj.UnitsAbbreviation + \")\")\n",
    "    ax.set_xlabel(\"Date/Time\")\n",
    "    ax.xaxis.set_minor_locator(dates.MonthLocator())\n",
    "    ax.xaxis.set_minor_formatter(dates.DateFormatter('%b'))\n",
    "    ax.xaxis.set_major_locator(dates.YearLocator())\n",
    "    ax.xaxis.set_major_formatter(dates.DateFormatter('\\n%Y'))\n",
    "    ax.grid(True)\n",
    "except Exception as e:\n",
    "    print \"Unable to demo plotting of tsValues: \", e"
   ]
  }
 ],
 "metadata": {
  "kernelspec": {
   "display_name": "Python 2",
   "language": "python",
   "name": "python2"
  },
  "language_info": {
   "codemirror_mode": {
    "name": "ipython",
    "version": 2
   },
   "file_extension": ".py",
   "mimetype": "text/x-python",
   "name": "python",
   "nbconvert_exporter": "python",
   "pygments_lexer": "ipython2",
   "version": "2.7.11"
  }
 },
 "nbformat": 4,
 "nbformat_minor": 0
}
