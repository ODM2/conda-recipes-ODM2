{
 "cells": [
  {
   "cell_type": "markdown",
   "metadata": {},
   "source": [
    "# odm2api demo with Little Bear SQLite sample DB\n",
    "Largely from https://github.com/ODM2/ODM2PythonAPI/blob/master/Examples/Sample.py   \n",
    "- 4/25/2016. Started testing with the new `odm2` conda channel, based on the new `0.5.0-alpha` odm2api release. See my `odm2api_odm2channel` env. Ran into problems b/c the SQLite database needed to be updated to have a `SamplingFeature.FeatureGeometryWKT` field; so I added and populated it manually with `SQLite Manager`.\n",
    "- 2/7/2016. Tested successfully with `sfgeometry_em_1` branch, with my overhauls. Using `odm2api_dev` env.\n",
    "- 2/1 - 1/31. Errors with SamplingFeatures code, with latest odm2api from master (on env `odm2api_jan31test`). *The code also fails the same way with the `odm2api` env, but it does still run fine with the `odm2api_jan21` env! I'm investigating the differences between those two envs.*\n",
    "- 1/22-20,9/2016.\n",
    "\n",
    "Author: Emilio Mayorga"
   ]
  },
  {
   "cell_type": "markdown",
   "metadata": {},
   "source": [
    "### Create a connection to the ODM2 database"
   ]
  },
  {
   "cell_type": "code",
   "execution_count": 1,
   "metadata": {
    "collapsed": false,
    "scrolled": true
   },
   "outputs": [],
   "source": [
    "from odm2api.ODMconnection import dbconnection\n",
    "\n",
    "odm2db_fpth = 'data/ODM2-LittleBear1.sqlite'\n",
    "\n",
    "session_factory = dbconnection.createConnection('sqlite', odm2db_fpth, 2.0)"
   ]
  },
  {
   "cell_type": "markdown",
   "metadata": {},
   "source": [
    "### Read the database"
   ]
  },
  {
   "cell_type": "code",
   "execution_count": 2,
   "metadata": {
    "collapsed": true
   },
   "outputs": [],
   "source": [
    "from odm2api.ODM2.services.readService import ReadODM2\n",
    "\n",
    "read = ReadODM2(session_factory)"
   ]
  },
  {
   "cell_type": "markdown",
   "metadata": {},
   "source": [
    "### Run some basic sample queries"
   ]
  },
  {
   "cell_type": "code",
   "execution_count": 3,
   "metadata": {
    "collapsed": false
   },
   "outputs": [
    {
     "name": "stdout",
     "output_type": "stream",
     "text": [
      "USU36: Temperature\n"
     ]
    }
   ],
   "source": [
    "allVars = read.getVariables()\n",
    "\n",
    "for x in allVars:\n",
    "    print(\"{}: {}\".format(x.VariableCode, x.VariableNameCV))"
   ]
  },
  {
   "cell_type": "markdown",
   "metadata": {},
   "source": [
    "### Read some metadata from the database: people and affiliation"
   ]
  },
  {
   "cell_type": "code",
   "execution_count": 4,
   "metadata": {
    "collapsed": false
   },
   "outputs": [
    {
     "name": "stdout",
     "output_type": "stream",
     "text": [
      "Jeff Horsburgh\n"
     ]
    }
   ],
   "source": [
    "allPeople = read.getPeople()\n",
    "\n",
    "if allPeople:\n",
    "    for x in allPeople:\n",
    "        print(\"{} {}\".format(x.PersonFirstName, x.PersonLastName))\n",
    "        \n",
    "allaff = read.getAffiliations()\n",
    "\n",
    "if allaff:\n",
    "    for x in allaff:\n",
    "        print(\"{}: {}\".format(x.PersonObj.PersonFirstName, x.OrganizationID))"
   ]
  },
  {
   "cell_type": "markdown",
   "metadata": {},
   "source": [
    "## SamplingFeatures tests"
   ]
  },
  {
   "cell_type": "markdown",
   "metadata": {},
   "source": [
    "### Get all of the SamplingFeatures from the database that are Sites"
   ]
  },
  {
   "cell_type": "code",
   "execution_count": 5,
   "metadata": {
    "collapsed": false
   },
   "outputs": [
    {
     "name": "stdout",
     "output_type": "stream",
     "text": [
      "USU-LBR-Mendon: Little Bear River at Mendon Road near Mendon, Utah\n"
     ]
    }
   ],
   "source": [
    "try:\n",
    "    siteFeatures = read.getSamplingFeatures(type='Site')\n",
    "    numSites = len(siteFeatures)\n",
    "    for x in siteFeatures:\n",
    "        print x.SamplingFeatureCode + \": \" + x.SamplingFeatureName\n",
    "except Exception as e:\n",
    "    print(\"Unable to demo getSamplingFeatures(type='Site')\\n{}\".format(e))"
   ]
  },
  {
   "cell_type": "code",
   "execution_count": 6,
   "metadata": {
    "collapsed": false
   },
   "outputs": [
    {
     "data": {
      "text/plain": [
       "[<Sites('1', '1', 'Stream', '41.718473', '-111.946402', '<SpatialReferences('1', 'None', 'Unknown', 'The spatial reference is unknown', 'None')>', 'USU-LBR-Mendon')>]"
      ]
     },
     "execution_count": 6,
     "metadata": {},
     "output_type": "execute_result"
    }
   ],
   "source": [
    "read.getSamplingFeatures()"
   ]
  },
  {
   "cell_type": "code",
   "execution_count": 7,
   "metadata": {
    "collapsed": false
   },
   "outputs": [
    {
     "data": {
      "text/plain": [
       "[<Sites('1', '1', 'Stream', '41.718473', '-111.946402', '<SpatialReferences('1', 'None', 'Unknown', 'The spatial reference is unknown', 'None')>', 'USU-LBR-Mendon')>]"
      ]
     },
     "execution_count": 7,
     "metadata": {},
     "output_type": "execute_result"
    }
   ],
   "source": [
    "read.getSamplingFeatures(codes=['USU-LBR-Mendon'])"
   ]
  },
  {
   "cell_type": "markdown",
   "metadata": {},
   "source": [
    "### Now get the SamplingFeature object for a SamplingFeature code"
   ]
  },
  {
   "cell_type": "code",
   "execution_count": 8,
   "metadata": {
    "collapsed": false
   },
   "outputs": [
    {
     "data": {
      "text/plain": [
       "{'ElevationDatumCV': u'NGVD29',\n",
       " 'Elevation_m': 1345.0,\n",
       " 'FeatureGeometry': <SQLitePersistentSpatialElement at 0x7f234e2cabd0; <WKBSpatialElement at 0x7f234e2ca610; u'POINT (41.718473 -111.946402)'>>,\n",
       " 'FeatureGeometryWKT': u'POINT (41.718473 -111.946402)',\n",
       " 'Latitude': 41.718473,\n",
       " 'Longitude': -111.946402,\n",
       " 'SamplingFeatureCode': u'USU-LBR-Mendon',\n",
       " 'SamplingFeatureDescription': None,\n",
       " 'SamplingFeatureGeotypeCV': u'Point',\n",
       " 'SamplingFeatureID': 1,\n",
       " 'SamplingFeatureName': u'Little Bear River at Mendon Road near Mendon, Utah',\n",
       " 'SamplingFeatureTypeCV': u'Site',\n",
       " 'SamplingFeatureUUID': u'6ae9eceb-989d-11e5-a9c7-6c4008bf018e',\n",
       " 'SiteTypeCV': u'Stream',\n",
       " 'SpatialReferenceID': 1,\n",
       " 'SpatialReferenceObj': <SpatialReferences('1', 'None', 'Unknown', 'The spatial reference is unknown', 'None')>,\n",
       " '_sa_instance_state': <sqlalchemy.orm.state.InstanceState at 0x7f234e31ba90>}"
      ]
     },
     "execution_count": 8,
     "metadata": {},
     "output_type": "execute_result"
    }
   ],
   "source": [
    "sf_lst = read.getSamplingFeatures(codes=['USU-LBR-Mendon'])\n",
    "\n",
    "vars(sf_lst[0])"
   ]
  },
  {
   "cell_type": "code",
   "execution_count": 9,
   "metadata": {
    "collapsed": false
   },
   "outputs": [
    {
     "data": {
      "text/plain": [
       "<Sites('1', '1', 'Stream', '41.718473', '-111.946402', '<SpatialReferences('1', 'None', 'Unknown', 'The spatial reference is unknown', 'None')>', 'USU-LBR-Mendon')>"
      ]
     },
     "execution_count": 9,
     "metadata": {},
     "output_type": "execute_result"
    }
   ],
   "source": [
    "sf = sf_lst[0]\n",
    "\n",
    "sf"
   ]
  },
  {
   "cell_type": "code",
   "execution_count": 10,
   "metadata": {
    "collapsed": false
   },
   "outputs": [
    {
     "name": "stdout",
     "output_type": "stream",
     "text": [
      "<class 'odm2api.ODM2.models.Sites'>\n",
      "(<type 'unicode'>, u'POINT (41.718473 -111.946402)')\n",
      "<class 'geoalchemy.spatialite.SQLitePersistentSpatialElement'>\n"
     ]
    }
   ],
   "source": [
    "print(type(sf))\n",
    "print(type(sf.FeatureGeometryWKT), sf.FeatureGeometryWKT)\n",
    "print(type(sf.FeatureGeometry))"
   ]
  },
  {
   "cell_type": "code",
   "execution_count": 11,
   "metadata": {
    "collapsed": false
   },
   "outputs": [
    {
     "data": {
      "text/plain": [
       "{'desc': <WKBSpatialElement at 0x7f234e2ca610; u'POINT (41.718473 -111.946402)'>}"
      ]
     },
     "execution_count": 11,
     "metadata": {},
     "output_type": "execute_result"
    }
   ],
   "source": [
    "vars(sf.FeatureGeometry)"
   ]
  },
  {
   "cell_type": "code",
   "execution_count": 12,
   "metadata": {
    "collapsed": false
   },
   "outputs": [
    {
     "data": {
      "text/plain": [
       "'Represents a Geometry value as loaded from the database.'"
      ]
     },
     "execution_count": 12,
     "metadata": {},
     "output_type": "execute_result"
    }
   ],
   "source": [
    "sf.FeatureGeometry.__doc__"
   ]
  },
  {
   "cell_type": "code",
   "execution_count": 13,
   "metadata": {
    "collapsed": false
   },
   "outputs": [
    {
     "data": {
      "text/plain": [
       "(u'POINT (41.718473 -111.946402)', None)"
      ]
     },
     "execution_count": 13,
     "metadata": {},
     "output_type": "execute_result"
    }
   ],
   "source": [
    "sf.FeatureGeometry.geom_wkb, sf.FeatureGeometry.geom_wkt"
   ]
  },
  {
   "cell_type": "code",
   "execution_count": 14,
   "metadata": {
    "collapsed": false
   },
   "outputs": [
    {
     "name": "stdout",
     "output_type": "stream",
     "text": [
      "POINT (41.718473 -111.946402)\n",
      "POINT (41.718473 -111.946402)\n",
      "POINT (41.718473 -111.946402)\n",
      "POINT (41.718473 -111.946402)\n"
     ]
    },
    {
     "data": {
      "text/plain": [
       "(shapely.geometry.point.Point, 'POINT (41.718473 -111.946402)')"
      ]
     },
     "execution_count": 14,
     "metadata": {},
     "output_type": "execute_result"
    }
   ],
   "source": [
    "# 4/25/2016: Don't know why the shape is listed 4 times...\n",
    "type(sf.shape()), sf.shape().wkt"
   ]
  },
  {
   "cell_type": "markdown",
   "metadata": {},
   "source": [
    "## Back to the rest of the demo"
   ]
  },
  {
   "cell_type": "code",
   "execution_count": 15,
   "metadata": {
    "collapsed": false
   },
   "outputs": [
    {
     "data": {
      "text/plain": [
       "[<TimeSeriesResults('1', 'None', 'None', 'None', 'Time series coverage', 'None', 'None', '30.0', 'Average')>]"
      ]
     },
     "execution_count": 15,
     "metadata": {},
     "output_type": "execute_result"
    }
   ],
   "source": [
    "read.getResults()"
   ]
  },
  {
   "cell_type": "code",
   "execution_count": 16,
   "metadata": {
    "collapsed": false
   },
   "outputs": [
    {
     "data": {
      "text/plain": [
       "<Actions('1', 'Observation', '2007-08-16 16:30:00', 'An observation action that generated a time series result.')>"
      ]
     },
     "execution_count": 16,
     "metadata": {},
     "output_type": "execute_result"
    }
   ],
   "source": [
    "firstResult = read.getResults()[0]\n",
    "\n",
    "firstResult.FeatureActionObj.ActionObj"
   ]
  },
  {
   "cell_type": "markdown",
   "metadata": {},
   "source": [
    "### Foreign Key Example\n",
    "\n",
    "Drill down and get objects linked by foreign keys"
   ]
  },
  {
   "cell_type": "code",
   "execution_count": 17,
   "metadata": {
    "collapsed": false
   },
   "outputs": [
    {
     "name": "stdout",
     "output_type": "stream",
     "text": [
      "The FeatureAction object for the Result is: <FeatureActions('1', '1', '1', )>\n",
      "The Action object for the Result is: <Actions('1', 'Observation', '2007-08-16 16:30:00', 'An observation action that generated a time series result.')>\n",
      "\n",
      "The following are some of the attributes for the Action that created the Result: \n",
      "ActionTypeCV: Observation\n",
      "ActionDescription: An observation action that generated a time series result.\n",
      "BeginDateTime: 2007-08-16 16:30:00\n",
      "EndDateTime: 2009-01-16 12:30:00\n",
      "MethodName: Quality Control Level 1 Data Series created from raw QC Level 0 data using ODM Tools.\n",
      "MethodDescription: Quality Control Level 1 Data Series created from raw QC Level 0 data using ODM Tools.\n"
     ]
    }
   ],
   "source": [
    "try:\n",
    "    # Call getResults, but return only the first result.\n",
    "    firstResult = read.getResults()[0]\n",
    "    action_firstResult = firstResult.FeatureActionObj.ActionObj\n",
    "    print(\"The FeatureAction object for the Result is: {}\".format(firstResult.FeatureActionObj))\n",
    "    print(\"The Action object for the Result is: {}\".format(action_firstResult))\n",
    "    print(\"\\nThe following are some of the attributes for the Action that created the Result: \\n\" +\n",
    "          \"ActionTypeCV: \" + action_firstResult.ActionTypeCV + \"\\n\" +\n",
    "          \"ActionDescription: \" + action_firstResult.ActionDescription + \"\\n\" +\n",
    "          \"BeginDateTime: \" + str(action_firstResult.BeginDateTime) + \"\\n\" +\n",
    "          \"EndDateTime: \" + str(action_firstResult.EndDateTime) + \"\\n\" +\n",
    "          \"MethodName: \" + action_firstResult.MethodObj.MethodName + \"\\n\" +\n",
    "          \"MethodDescription: \" + action_firstResult.MethodObj.MethodDescription)\n",
    "except Exception as e:\n",
    "    print(\"Unable to demo Foreign Key Example: {}\".format(e))"
   ]
  },
  {
   "cell_type": "markdown",
   "metadata": {},
   "source": [
    "### Example of Retrieving Attributes of a Time Series Result using a ResultID"
   ]
  },
  {
   "cell_type": "code",
   "execution_count": 18,
   "metadata": {
    "collapsed": false
   },
   "outputs": [
    {
     "data": {
      "text/plain": [
       "(odm2api.ODM2.models.TimeSeriesResults,\n",
       " {'AggregationStatisticCV': u'Average',\n",
       "  'FeatureActionID': 1,\n",
       "  'FeatureActionObj': <FeatureActions('1', '1', '1', )>,\n",
       "  'IntendedTimeSpacing': 30.0,\n",
       "  'IntendedTimeSpacingUnitsID': 102,\n",
       "  'ProcessingLevelID': 1,\n",
       "  'ResultDateTime': datetime.datetime(2015, 12, 1, 19, 35, 57, 609318),\n",
       "  'ResultDateTimeUTCOffset': -7,\n",
       "  'ResultID': 1,\n",
       "  'ResultTypeCV': u'Time series coverage',\n",
       "  'ResultUUID': u'6af05c61-989d-11e5-9d19-6c4008bf018e',\n",
       "  'SampledMediumCV': u'Surface Water',\n",
       "  'SpatialReferenceID': None,\n",
       "  'SpatialReferenceObj': None,\n",
       "  'StatusCV': u'Unknown',\n",
       "  'TaxonomicClassifierID': None,\n",
       "  'UnitsID': 96,\n",
       "  'ValidDateTime': None,\n",
       "  'ValidDateTimeUTCOffset': None,\n",
       "  'ValueCount': 24206,\n",
       "  'VariableID': 1,\n",
       "  'XLocation': None,\n",
       "  'XLocationUnitsID': None,\n",
       "  'XLocationUnitsObj': None,\n",
       "  'YLocation': None,\n",
       "  'YLocationUnitsID': None,\n",
       "  'ZLocation': None,\n",
       "  'ZLocationUnitsID': None,\n",
       "  '_sa_instance_state': <sqlalchemy.orm.state.InstanceState at 0x7f234e23f390>})"
      ]
     },
     "execution_count": 18,
     "metadata": {},
     "output_type": "execute_result"
    }
   ],
   "source": [
    "tsResult = read.getResults(ids=[1])[0]\n",
    "\n",
    "type(tsResult), vars(tsResult)"
   ]
  },
  {
   "cell_type": "markdown",
   "metadata": {},
   "source": [
    "**Why are `ProcessingLevelObj`, `VariableObj` and `UnitsObj` objects not shown in the above `vars()` listing!?** They **are** actually available, as demonstrated in much of the code below."
   ]
  },
  {
   "cell_type": "code",
   "execution_count": 19,
   "metadata": {
    "collapsed": false
   },
   "outputs": [
    {
     "name": "stdout",
     "output_type": "stream",
     "text": [
      "Some of the attributes for the TimeSeriesResult retrieved using getResults(ids=[]): \n",
      "ResultTypeCV: Time series coverage\n",
      "ProcessingLevel: Quality controlled data\n",
      "SampledMedium: Surface Water\n",
      "Variable: USU36: Temperature\n",
      "AggregationStatistic: Average\n",
      "Elevation_m: 1345.0\n",
      "SamplingFeature: USU-LBR-Mendon - Little Bear River at Mendon Road near Mendon, Utah\n"
     ]
    }
   ],
   "source": [
    "try:\n",
    "    tsResult = read.getResults(ids=[1])[0]\n",
    "    # Get the site information by drilling down.\n",
    "    sf_tsResult = tsResult.FeatureActionObj.SamplingFeatureObj\n",
    "    print(\"Some of the attributes for the TimeSeriesResult retrieved using getResults(ids=[]): \\n\" +\n",
    "          \"ResultTypeCV: \" + tsResult.ResultTypeCV + \"\\n\" +\n",
    "          # Get the ProcessingLevel from the TimeSeriesResult's ProcessingLevel object.\n",
    "          \"ProcessingLevel: \" + tsResult.ProcessingLevelObj.Definition + \"\\n\" +\n",
    "          \"SampledMedium: \" + tsResult.SampledMediumCV + \"\\n\" +\n",
    "          # Get the variable information from the TimeSeriesResult's Variable object.\n",
    "          \"Variable: \" + tsResult.VariableObj.VariableCode + \": \" + tsResult.VariableObj.VariableNameCV + \"\\n\" +\n",
    "          \"AggregationStatistic: \" + tsResult.AggregationStatisticCV + \"\\n\" +\n",
    "          # Get the site information by drilling down.\n",
    "          \"Elevation_m: \" + str(sf_tsResult.Elevation_m) + \"\\n\" +\n",
    "          \"SamplingFeature: \" + sf_tsResult.SamplingFeatureCode + \" - \" +\n",
    "          sf_tsResult.SamplingFeatureName)\n",
    "except Exception as e:\n",
    "    print(\"Unable to demo Example of retrieving Attributes of a time Series Result: {}\".format(e))"
   ]
  },
  {
   "cell_type": "markdown",
   "metadata": {},
   "source": [
    "### Example of Retrieving Time Series Result Values, then plotting them"
   ]
  },
  {
   "cell_type": "code",
   "execution_count": 20,
   "metadata": {
    "collapsed": false
   },
   "outputs": [
    {
     "data": {
      "text/html": [
       "<div>\n",
       "<table border=\"1\" class=\"dataframe\">\n",
       "  <thead>\n",
       "    <tr style=\"text-align: right;\">\n",
       "      <th></th>\n",
       "      <th>ValueID</th>\n",
       "      <th>ResultID</th>\n",
       "      <th>DataValue</th>\n",
       "      <th>ValueDateTimeUTCOffset</th>\n",
       "      <th>CensorCodeCV</th>\n",
       "      <th>QualityCodeCV</th>\n",
       "      <th>TimeAggregationInterval</th>\n",
       "      <th>TimeAggregationIntervalUnitsID</th>\n",
       "    </tr>\n",
       "    <tr>\n",
       "      <th>ValueDateTime</th>\n",
       "      <th></th>\n",
       "      <th></th>\n",
       "      <th></th>\n",
       "      <th></th>\n",
       "      <th></th>\n",
       "      <th></th>\n",
       "      <th></th>\n",
       "      <th></th>\n",
       "    </tr>\n",
       "  </thead>\n",
       "  <tbody>\n",
       "    <tr>\n",
       "      <th>2007-08-16 16:30:00</th>\n",
       "      <td>1</td>\n",
       "      <td>1</td>\n",
       "      <td>22.20000</td>\n",
       "      <td>-7</td>\n",
       "      <td>nc</td>\n",
       "      <td>Unknown</td>\n",
       "      <td>30.0</td>\n",
       "      <td>102</td>\n",
       "    </tr>\n",
       "    <tr>\n",
       "      <th>2007-08-16 17:00:00</th>\n",
       "      <td>2</td>\n",
       "      <td>1</td>\n",
       "      <td>22.19833</td>\n",
       "      <td>-7</td>\n",
       "      <td>nc</td>\n",
       "      <td>Unknown</td>\n",
       "      <td>30.0</td>\n",
       "      <td>102</td>\n",
       "    </tr>\n",
       "    <tr>\n",
       "      <th>2007-08-16 17:30:00</th>\n",
       "      <td>3</td>\n",
       "      <td>1</td>\n",
       "      <td>22.18500</td>\n",
       "      <td>-7</td>\n",
       "      <td>nc</td>\n",
       "      <td>Unknown</td>\n",
       "      <td>30.0</td>\n",
       "      <td>102</td>\n",
       "    </tr>\n",
       "    <tr>\n",
       "      <th>2007-08-16 18:00:00</th>\n",
       "      <td>4</td>\n",
       "      <td>1</td>\n",
       "      <td>22.03833</td>\n",
       "      <td>-7</td>\n",
       "      <td>nc</td>\n",
       "      <td>Unknown</td>\n",
       "      <td>30.0</td>\n",
       "      <td>102</td>\n",
       "    </tr>\n",
       "    <tr>\n",
       "      <th>2007-08-16 18:30:00</th>\n",
       "      <td>5</td>\n",
       "      <td>1</td>\n",
       "      <td>21.88167</td>\n",
       "      <td>-7</td>\n",
       "      <td>nc</td>\n",
       "      <td>Unknown</td>\n",
       "      <td>30.0</td>\n",
       "      <td>102</td>\n",
       "    </tr>\n",
       "  </tbody>\n",
       "</table>\n",
       "</div>"
      ],
      "text/plain": [
       "                     ValueID  ResultID  DataValue  ValueDateTimeUTCOffset  \\\n",
       "ValueDateTime                                                               \n",
       "2007-08-16 16:30:00        1         1   22.20000                      -7   \n",
       "2007-08-16 17:00:00        2         1   22.19833                      -7   \n",
       "2007-08-16 17:30:00        3         1   22.18500                      -7   \n",
       "2007-08-16 18:00:00        4         1   22.03833                      -7   \n",
       "2007-08-16 18:30:00        5         1   21.88167                      -7   \n",
       "\n",
       "                    CensorCodeCV QualityCodeCV  TimeAggregationInterval  \\\n",
       "ValueDateTime                                                             \n",
       "2007-08-16 16:30:00           nc       Unknown                     30.0   \n",
       "2007-08-16 17:00:00           nc       Unknown                     30.0   \n",
       "2007-08-16 17:30:00           nc       Unknown                     30.0   \n",
       "2007-08-16 18:00:00           nc       Unknown                     30.0   \n",
       "2007-08-16 18:30:00           nc       Unknown                     30.0   \n",
       "\n",
       "                     TimeAggregationIntervalUnitsID  \n",
       "ValueDateTime                                        \n",
       "2007-08-16 16:30:00                             102  \n",
       "2007-08-16 17:00:00                             102  \n",
       "2007-08-16 17:30:00                             102  \n",
       "2007-08-16 18:00:00                             102  \n",
       "2007-08-16 18:30:00                             102  "
      ]
     },
     "execution_count": 20,
     "metadata": {},
     "output_type": "execute_result"
    }
   ],
   "source": [
    "tsValues = read.getResultValues(resultid=1)  # Get the values for a particular TimeSeriesResult.\n",
    "\n",
    "tsValues.set_index('ValueDateTime', inplace=True)\n",
    "\n",
    "tsValues.head()  # Return type is a pandas dataframe."
   ]
  },
  {
   "cell_type": "code",
   "execution_count": 21,
   "metadata": {
    "collapsed": false
   },
   "outputs": [
    {
     "data": {
      "image/png": "[encoded data removed]",
      "text/plain": [
       "<matplotlib.figure.Figure at 0x7f234e202850>"
      ]
     },
     "metadata": {},
     "output_type": "display_data"
    }
   ],
   "source": [
    "%matplotlib inline\n",
    "import matplotlib.pyplot as plt\n",
    "from matplotlib import dates\n",
    "\n",
    "fig, ax = plt.subplots(figsize=(11, 2.25))\n",
    "tsValues['DataValue'].plot(ax=ax)\n",
    "\n",
    "title = tsResult.VariableObj.VariableNameCV + \" at \" +  tsResult.FeatureActionObj.SamplingFeatureObj.SamplingFeatureName\n",
    "\n",
    "ax.set_ylabel(tsResult.VariableObj.VariableNameCV + \" (\" +\n",
    "              tsResult.UnitsObj.UnitsAbbreviation + \")\")\n",
    "ax.set_xlabel(\"Date/Time\")\n",
    "ax.xaxis.set_minor_locator(dates.MonthLocator())\n",
    "ax.xaxis.set_minor_formatter(dates.DateFormatter('%b'))\n",
    "ax.xaxis.set_major_locator(dates.YearLocator())\n",
    "ax.xaxis.set_major_formatter(dates.DateFormatter('\\n%Y'))\n",
    "ax.grid(which='major', axis='y')\n",
    "ax.grid(which='minor', axis='x')"
   ]
  }
 ],
 "metadata": {
  "kernelspec": {
   "display_name": "Python 2",
   "language": "python",
   "name": "python2"
  },
  "language_info": {
   "codemirror_mode": {
    "name": "ipython",
    "version": 2
   },
   "file_extension": ".py",
   "mimetype": "text/x-python",
   "name": "python",
   "nbconvert_exporter": "python",
   "pygments_lexer": "ipython2",
   "version": "2.7.11"
  }
 },
 "nbformat": 4,
 "nbformat_minor": 0
}
